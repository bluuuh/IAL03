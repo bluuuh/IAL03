{
 "cells": [
  {
   "cell_type": "markdown",
   "metadata": {},
   "source": [
    "# Aufgabe 1\n",
    "## Programmierhilfsmittel\n",
    "\n",
    " 1. Welche Vorteile sollen durch Programmierrichtlinien erzielt werden?\n",
    "\n",
    "    -Einfaches lesen von Programmen und Strukturierter Aufbau\n",
    "2. Zusammen mit Python wurden Python Programmierrichtlinien spezifiziert. Wo sind diese definiert?\n",
    "\n",
    "    -Sie sind in PEP8 definiert\n",
    "3. Welche Konventionen zur Namensgebung sind in den Python Programmierrichtlinien festgelegt?\n",
    "\n",
    "    -snakeCase für variablen und Funktionen\n",
    "4. Welche Konventionen zur Einrückung sind in den Python Programmierrichtlinien festgelegt?\n",
    "\n",
    "    -Die Einrückung sollen 4 Spaces und nicht Tabs sein\n",
    "5. Was versteht man in Python unter einem DocString?\n",
    "\n",
    "    -Ein String der Meta Informationen zum Code oder einer Funktion beschreibt, er wir mit 3 \" erstellt\n",
    "\n",
    "6. Welche Aufgabe besitzen Code-Formatierer? Welche Formatierer für Python kennen Sie?\n",
    "\n",
    "    -Sie analysieren den Code und geben verstöße gegen PEP8 an und bei Bedarf überschreiben sie auch die Datei. Es gibt zB autopep8, black.\n",
    "7. Was versteht man unter einem (Static-)Code-Analyzer? Welche Code-Analyzer für Python kennen Sie? Mit welchem anderen Namen werden Code-Analyzer auch bezeichnet?\n",
    "\n",
    "    -Code Analyzier heben Fehler hervor die nicht PEP8 entsprechen, sie werden auch linter genannt.\n",
    "9. Viele Hilfsmittel stehen in Python in Form von Paketen zur Verfügung. Wie heißt der standardmäßig mit Python ausgelieferte Paket-Manager? Wie lauten die Befehle, um sich die verfügbaren Pakete anzusehen? Wie kann man ein zusätzliches Paket installieren?\n",
    "\n",
    "    -Der Paketmanager für Python heit PIP. Mit \n",
    "    -pip show *paket*-\n",
    "    kann man sich ein Paket anzeigen lassen und mit \n",
    "    -pip install *paket*- das Paket installieren"
   ]
  },
  {
   "cell_type": "code",
   "execution_count": null,
   "metadata": {},
   "outputs": [],
   "source": [
    "i = -100\n",
    "while i < 101:\n",
    "    print(i)\n",
    "    i = i + 10"
   ]
  },
  {
   "cell_type": "code",
   "execution_count": null,
   "metadata": {},
   "outputs": [],
   "source": [
    "for i in range(100,-101,-10):\n",
    "    print(i)"
   ]
  },
  {
   "cell_type": "code",
   "execution_count": null,
   "metadata": {},
   "outputs": [],
   "source": [
    "for i in range(0,11):\n",
    "    if i<5:\n",
    "        print(i)\n",
    "    else:\n",
    "        print(i, \"Hurra!\")"
   ]
  },
  {
   "cell_type": "code",
   "execution_count": null,
   "metadata": {},
   "outputs": [],
   "source": [
    "i = 10\n",
    "while i > -11:\n",
    "    if i >= 5:\n",
    "        print(i,\"gross\")\n",
    "    elif i <= -5:\n",
    "        print(i,\"klein\")\n",
    "    else:\n",
    "        print(i)\n",
    "    i = i - 1\n"
   ]
  },
  {
   "cell_type": "code",
   "execution_count": null,
   "metadata": {},
   "outputs": [],
   "source": [
    "i = 0\n",
    "\n",
    "while i < 11:\n",
    "    if i == 3:\n",
    "        print(i, \"drei\")\n",
    "    elif i == 4:\n",
    "        print(i, \"vier\")\n",
    "    elif i == 5:\n",
    "        print(i, \"fünf\")\n",
    "    else:\n",
    "        print(i)\n",
    "    i = i + 1\n"
   ]
  },
  {
   "cell_type": "code",
   "execution_count": null,
   "metadata": {},
   "outputs": [],
   "source": [
    "for i in range(100, 0, -10):\n",
    "    if i % 30 == 0:\n",
    "        print(i, \"Bingo!\")\n",
    "    else:\n",
    "        print(i)\n"
   ]
  },
  {
   "cell_type": "code",
   "execution_count": null,
   "metadata": {},
   "outputs": [],
   "source": [
    "i = 0\n",
    "BingoRingo=[]\n",
    "while i < 101:\n",
    "    if i % 5 == 0 and i % 8 == 0:\n",
    "        BingoRingo.append(str(i)+\"Bingo Ringo!\")\n",
    "        print(i, \"Bingo Ringo!\")\n",
    "    elif i % 8 == 0:\n",
    "        BingoRingo.append(str(i)+\"Ringo!\")\n",
    "        print(i, \"Ringo!\")\n",
    "    elif i % 5 == 0:\n",
    "        BingoRingo.append(str(i)+\"Bingo!\")\n",
    "        print(i, \"Bingo!\")\n",
    "    else:\n",
    "        BingoRingo.append(str(i))\n",
    "        print(i)\n",
    "    i = i + 1\n",
    "with open(\"Bingo Ringo.txt\",\"w\") as f:\n",
    "    for items in BingoRingo:\n",
    "        f.write(items)\n",
    "        f.write(\"\\n\")\n"
   ]
  },
  {
   "cell_type": "code",
   "execution_count": null,
   "metadata": {},
   "outputs": [],
   "source": [
    "names = [\"null\",\"eins\",\"zwei\",\"drei\",\"vier\",\"fünf\"]\n",
    "zahl = int(input(\"Zahl zwischen 0 und 5 eingeben\"))\n",
    "print(zahl, \"->\", names[zahl])"
   ]
  },
  {
   "cell_type": "code",
   "execution_count": null,
   "metadata": {},
   "outputs": [],
   "source": [
    "zahl = int(input(\"Ganze Zahl eingeben:\"))\n",
    "vorzeichen = [\"-\", \"+\"]\n",
    "paritaet = [\"ungerade\", \"gerade\"]\n",
    "if zahl >= 0:\n",
    "    print(\"Zahl ist positiv\")\n",
    "    positiv = 1\n",
    "else:\n",
    "    print(\"Zahl ist negativ\")\n",
    "    positiv = 0\n",
    "if zahl % 2 == 0:\n",
    "    gerade = 1\n",
    "else:\n",
    "    gerade = 0\n",
    "betrag = abs(zahl)\n",
    "print(f\"Deine Zahl ist: {zahl}\")\n",
    "print(f\"Deine Zahl ist {paritaet[gerade]}\")\n",
    "print(f\"Sie hat das Vorzeichen {vorzeichen[positiv]}\")\n",
    "print(f\"Der Betrag ist {betrag}\")\n"
   ]
  },
  {
   "cell_type": "code",
   "execution_count": null,
   "metadata": {},
   "outputs": [],
   "source": [
    "liste = [\"Schwalbe\", \"Kokosnuss\", 13, \"Spam\", 3.14]\n",
    "liste[2] = 666\n",
    "print(\"index\",liste)\n",
    "print(\"len\",len(liste))\n",
    "liste.append(\"Ni\")\n",
    "print(\"append\",liste)\n",
    "liste.extend([4, 5, 3.14])\n",
    "print(\"extend\",liste)\n",
    "liste.insert(2, \"Taube\")\n",
    "print(\"insert\",liste)\n",
    "print(\"count\",liste.count(3.14))\n",
    "print(\"index\",liste.index(3.14))\n",
    "liste.remove(3.14)\n",
    "print(\"remove\",liste)\n",
    "print(\"pop\",liste.pop())\n",
    "print(\"pop\",liste)\n",
    "liste.reverse()\n",
    "print(\"reverse\",liste)\n"
   ]
  },
  {
   "cell_type": "code",
   "execution_count": null,
   "metadata": {},
   "outputs": [],
   "source": [
    "liste = [1, 2, 3, 9, 8, 7, 6, 4, 5, 0, 10]\n",
    "for zahl in liste:\n",
    "    if zahl % 5 == 0:\n",
    "        print(zahl)\n"
   ]
  },
  {
   "cell_type": "code",
   "execution_count": null,
   "metadata": {},
   "outputs": [],
   "source": [
    "liste = []\n",
    "i = 0\n",
    "j = 0\n",
    "while i < 11:\n",
    "    liste.append(i)\n",
    "    i = i + 1\n",
    "print(liste)\n",
    "while j < len(liste):\n",
    "    liste[j] = 2 * liste[j]\n",
    "    j = j + 1\n",
    "print(liste)\n"
   ]
  },
  {
   "cell_type": "code",
   "execution_count": null,
   "metadata": {},
   "outputs": [],
   "source": [
    "Adresse = {\"Vorname\": \"Max\", \"Nachname\": \"Mustermann\", \"Strasse\": \"Musterweg\",\n",
    "           \"Hausnummer\": 10, \"PLZ\": 55555, \"Ort\": \"Musterstadt\"}\n",
    "for key, value in Adresse.items():\n",
    "    print(key, value)\n",
    "print(\"--------------------\")\n",
    "for key in Adresse.keys():\n",
    "    print(key)\n",
    "print(\"--------------------\")\n",
    "Adresse[\"Strasse\"] = \"Anderestrasse\"\n",
    "Adresse[\"Hausnummer\"] = 11\n",
    "print(\"Anzahl der Keys ->\",len(Adresse.keys()))\n",
    "print(\"--------------------\")\n",
    "Adresse[\"Land\"] = \"Deutschland\"\n",
    "print(Adresse)\n"
   ]
  },
  {
   "cell_type": "code",
   "execution_count": null,
   "metadata": {},
   "outputs": [],
   "source": []
  }
 ],
 "metadata": {
  "kernelspec": {
   "display_name": "Python 3.10.6 64-bit",
   "language": "python",
   "name": "python3"
  },
  "language_info": {
   "codemirror_mode": {
    "name": "ipython",
    "version": 3
   },
   "file_extension": ".py",
   "mimetype": "text/x-python",
   "name": "python",
   "nbconvert_exporter": "python",
   "pygments_lexer": "ipython3",
   "version": "3.10.6"
  },
  "orig_nbformat": 4,
  "vscode": {
   "interpreter": {
    "hash": "916dbcbb3f70747c44a77c7bcd40155683ae19c65e1c03b4aa3499c5328201f1"
   }
  }
 },
 "nbformat": 4,
 "nbformat_minor": 2
}
