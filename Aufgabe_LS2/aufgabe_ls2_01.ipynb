{
 "cells": [
  {
   "cell_type": "markdown",
   "metadata": {},
   "source": [
    "# Aufgabe 1\n",
    "## Programmierhilfsmittel\n",
    "\n",
    " 1. Welche Vorteile sollen durch Programmierrichtlinien erzielt werden?\n",
    "\n",
    "    -Einfaches lesen von Programmen und Strukturierter Aufbau\n",
    "2. Zusammen mit Python wurden Python Programmierrichtlinien spezifiziert. Wo sind diese definiert?\n",
    "\n",
    "    -Sie sind in PEP8 definiert\n",
    "3. Welche Konventionen zur Namensgebung sind in den Python Programmierrichtlinien festgelegt?\n",
    "\n",
    "    -snakeCase für variablen und Funktionen\n",
    "4. Welche Konventionen zur Einrückung sind in den Python Programmierrichtlinien festgelegt?\n",
    "\n",
    "    -Die Einrückung sollen 4 Spaces und nicht Tabs sein\n",
    "5. Was versteht man in Python unter einem DocString?\n",
    "\n",
    "    -Ein String der Meta Informationen zum Code oder einer Funktion beschreibt, er wir mit 3 \" erstellt\n",
    "\n",
    "6. Welche Aufgabe besitzen Code-Formatierer? Welche Formatierer für Python kennen Sie?\n",
    "\n",
    "    -Sie analysieren den Code und geben verstöße gegen PEP8 an und bei Bedarf überschreiben sie auch die Datei. Es gibt zB autopep8, black.\n",
    "7. Was versteht man unter einem (Static-)Code-Analyzer? Welche Code-Analyzer für Python kennen Sie? Mit welchem anderen Namen werden Code-Analyzer auch bezeichnet?\n",
    "\n",
    "    -Code Analyzier heben Fehler hervor die nicht PEP8 entsprechen, sie werden auch linter genannt.\n",
    "9. Viele Hilfsmittel stehen in Python in Form von Paketen zur Verfügung. Wie heißt der standardmäßig mit Python ausgelieferte Paket-Manager? Wie lauten die Befehle, um sich die verfügbaren Pakete anzusehen? Wie kann man ein zusätzliches Paket installieren?\n",
    "\n",
    "    -Der Paketmanager für Python heit PIP. Mit \n",
    "    -pip show *paket*-\n",
    "    kann man sich ein Paket anzeigen lassen und mit \n",
    "    -pip install *paket*- das Paket installieren"
   ]
  },
  {
   "cell_type": "code",
   "execution_count": 1,
   "metadata": {},
   "outputs": [
    {
     "name": "stdout",
     "output_type": "stream",
     "text": [
      "-100\n",
      "-90\n",
      "-80\n",
      "-70\n",
      "-60\n",
      "-50\n",
      "-40\n",
      "-30\n",
      "-20\n",
      "-10\n",
      "0\n",
      "10\n",
      "20\n",
      "30\n",
      "40\n",
      "50\n",
      "60\n",
      "70\n",
      "80\n",
      "90\n",
      "100\n"
     ]
    }
   ],
   "source": [
    "i = -100\n",
    "while i < 101:\n",
    "    print(i)\n",
    "    i = i + 10"
   ]
  },
  {
   "cell_type": "code",
   "execution_count": 2,
   "metadata": {},
   "outputs": [
    {
     "name": "stdout",
     "output_type": "stream",
     "text": [
      "100\n",
      "90\n",
      "80\n",
      "70\n",
      "60\n",
      "50\n",
      "40\n",
      "30\n",
      "20\n",
      "10\n",
      "0\n",
      "-10\n",
      "-20\n",
      "-30\n",
      "-40\n",
      "-50\n",
      "-60\n",
      "-70\n",
      "-80\n",
      "-90\n",
      "-100\n"
     ]
    }
   ],
   "source": [
    "for i in range(100,-101,-10):\n",
    "    print(i)"
   ]
  },
  {
   "cell_type": "code",
   "execution_count": 3,
   "metadata": {},
   "outputs": [
    {
     "name": "stdout",
     "output_type": "stream",
     "text": [
      "0\n",
      "1\n",
      "2\n",
      "3\n",
      "4\n",
      "5 Hurra!\n",
      "6 Hurra!\n",
      "7 Hurra!\n",
      "8 Hurra!\n",
      "9 Hurra!\n",
      "10 Hurra!\n"
     ]
    }
   ],
   "source": [
    "for i in range(0,11):\n",
    "    if i<5:\n",
    "        print(i)\n",
    "    else:\n",
    "        print(i, \"Hurra!\")"
   ]
  },
  {
   "cell_type": "code",
   "execution_count": 4,
   "metadata": {},
   "outputs": [
    {
     "name": "stdout",
     "output_type": "stream",
     "text": [
      "10 gross\n",
      "9 gross\n",
      "8 gross\n",
      "7 gross\n",
      "6 gross\n",
      "5 gross\n",
      "4\n",
      "3\n",
      "2\n",
      "1\n",
      "0\n",
      "-1\n",
      "-2\n",
      "-3\n",
      "-4\n",
      "-5 klein\n",
      "-6 klein\n",
      "-7 klein\n",
      "-8 klein\n",
      "-9 klein\n",
      "-10 klein\n"
     ]
    }
   ],
   "source": [
    "i = 10\n",
    "while i > -11:\n",
    "    if i >= 5:\n",
    "        print(i,\"gross\")\n",
    "    elif i <= -5:\n",
    "        print(i,\"klein\")\n",
    "    else:\n",
    "        print(i)\n",
    "    i = i - 1\n"
   ]
  },
  {
   "cell_type": "code",
   "execution_count": 5,
   "metadata": {},
   "outputs": [
    {
     "name": "stdout",
     "output_type": "stream",
     "text": [
      "0\n",
      "1\n",
      "2\n",
      "3 drei\n",
      "4 vier\n",
      "5 fünf\n",
      "6\n",
      "7\n",
      "8\n",
      "9\n",
      "10\n"
     ]
    }
   ],
   "source": [
    "i = 0\n",
    "\n",
    "while i < 11:\n",
    "    if i == 3:\n",
    "        print(i, \"drei\")\n",
    "    elif i == 4:\n",
    "        print(i, \"vier\")\n",
    "    elif i == 5:\n",
    "        print(i, \"fünf\")\n",
    "    else:\n",
    "        print(i)\n",
    "    i = i + 1\n"
   ]
  },
  {
   "cell_type": "code",
   "execution_count": 6,
   "metadata": {},
   "outputs": [
    {
     "name": "stdout",
     "output_type": "stream",
     "text": [
      "100\n",
      "90 Bingo!\n",
      "80\n",
      "70\n",
      "60 Bingo!\n",
      "50\n",
      "40\n",
      "30 Bingo!\n",
      "20\n",
      "10\n"
     ]
    }
   ],
   "source": [
    "for i in range(100, 0, -10):\n",
    "    if i % 30 == 0:\n",
    "        print(i, \"Bingo!\")\n",
    "    else:\n",
    "        print(i)\n"
   ]
  },
  {
   "cell_type": "code",
   "execution_count": 7,
   "metadata": {},
   "outputs": [
    {
     "name": "stdout",
     "output_type": "stream",
     "text": [
      "0 Bingo Ringo!\n",
      "1\n",
      "2\n",
      "3\n",
      "4\n",
      "5 Bingo!\n",
      "6\n",
      "7\n",
      "8 Ringo!\n",
      "9\n",
      "10 Bingo!\n",
      "11\n",
      "12\n",
      "13\n",
      "14\n",
      "15 Bingo!\n",
      "16 Ringo!\n",
      "17\n",
      "18\n",
      "19\n",
      "20 Bingo!\n",
      "21\n",
      "22\n",
      "23\n",
      "24 Ringo!\n",
      "25 Bingo!\n",
      "26\n",
      "27\n",
      "28\n",
      "29\n",
      "30 Bingo!\n",
      "31\n",
      "32 Ringo!\n",
      "33\n",
      "34\n",
      "35 Bingo!\n",
      "36\n",
      "37\n",
      "38\n",
      "39\n",
      "40 Bingo Ringo!\n",
      "41\n",
      "42\n",
      "43\n",
      "44\n",
      "45 Bingo!\n",
      "46\n",
      "47\n",
      "48 Ringo!\n",
      "49\n",
      "50 Bingo!\n",
      "51\n",
      "52\n",
      "53\n",
      "54\n",
      "55 Bingo!\n",
      "56 Ringo!\n",
      "57\n",
      "58\n",
      "59\n",
      "60 Bingo!\n",
      "61\n",
      "62\n",
      "63\n",
      "64 Ringo!\n",
      "65 Bingo!\n",
      "66\n",
      "67\n",
      "68\n",
      "69\n",
      "70 Bingo!\n",
      "71\n",
      "72 Ringo!\n",
      "73\n",
      "74\n",
      "75 Bingo!\n",
      "76\n",
      "77\n",
      "78\n",
      "79\n",
      "80 Bingo Ringo!\n",
      "81\n",
      "82\n",
      "83\n",
      "84\n",
      "85 Bingo!\n",
      "86\n",
      "87\n",
      "88 Ringo!\n",
      "89\n",
      "90 Bingo!\n",
      "91\n",
      "92\n",
      "93\n",
      "94\n",
      "95 Bingo!\n",
      "96 Ringo!\n",
      "97\n",
      "98\n",
      "99\n",
      "100 Bingo!\n"
     ]
    }
   ],
   "source": [
    "i = 0\n",
    "BingoRingo=[]\n",
    "while i < 101:\n",
    "    if i % 5 == 0 and i % 8 == 0:\n",
    "        BingoRingo.append(str(i)+\"Bingo Ringo!\")\n",
    "        print(i, \"Bingo Ringo!\")\n",
    "    elif i % 8 == 0:\n",
    "        BingoRingo.append(str(i)+\"Ringo!\")\n",
    "        print(i, \"Ringo!\")\n",
    "    elif i % 5 == 0:\n",
    "        BingoRingo.append(str(i)+\"Bingo!\")\n",
    "        print(i, \"Bingo!\")\n",
    "    else:\n",
    "        BingoRingo.append(str(i))\n",
    "        print(i)\n",
    "    i = i + 1\n",
    "with open(\"Bingo Ringo.txt\",\"w\") as f:\n",
    "    for items in BingoRingo:\n",
    "        f.write(items)\n",
    "        f.write(\"\\n\")\n"
   ]
  },
  {
   "cell_type": "code",
   "execution_count": 8,
   "metadata": {},
   "outputs": [
    {
     "name": "stdout",
     "output_type": "stream",
     "text": [
      "5 -> fünf\n"
     ]
    }
   ],
   "source": [
    "names = [\"null\",\"eins\",\"zwei\",\"drei\",\"vier\",\"fünf\"]\n",
    "zahl = int(input(\"Zahl zwischen 0 und 5 eingeben\"))\n",
    "print(zahl, \"->\", names[zahl])"
   ]
  },
  {
   "cell_type": "code",
   "execution_count": 9,
   "metadata": {},
   "outputs": [
    {
     "name": "stdout",
     "output_type": "stream",
     "text": [
      "Zahl ist positiv\n",
      "Deine Zahl ist: 2\n",
      "Deine Zahl ist gerade\n",
      "Sie hat das Vorzeichen +\n",
      "Der Betrag ist 2\n"
     ]
    }
   ],
   "source": [
    "zahl = int(input(\"Ganze Zahl eingeben:\"))\n",
    "vorzeichen = [\"-\", \"+\"]\n",
    "paritaet = [\"ungerade\", \"gerade\"]\n",
    "if zahl >= 0:\n",
    "    print(\"Zahl ist positiv\")\n",
    "    positiv = 1\n",
    "else:\n",
    "    print(\"Zahl ist negativ\")\n",
    "    positiv = 0\n",
    "if zahl % 2 == 0:\n",
    "    gerade = 1\n",
    "else:\n",
    "    gerade = 0\n",
    "betrag = abs(zahl)\n",
    "print(f\"Deine Zahl ist: {zahl}\")\n",
    "print(f\"Deine Zahl ist {paritaet[gerade]}\")\n",
    "print(f\"Sie hat das Vorzeichen {vorzeichen[positiv]}\")\n",
    "print(f\"Der Betrag ist {betrag}\")\n"
   ]
  },
  {
   "cell_type": "code",
   "execution_count": 10,
   "metadata": {},
   "outputs": [
    {
     "name": "stdout",
     "output_type": "stream",
     "text": [
      "index ['Schwalbe', 'Kokosnuss', 666, 'Spam', 3.14]\n",
      "len 5\n",
      "append ['Schwalbe', 'Kokosnuss', 666, 'Spam', 3.14, 'Ni']\n",
      "extend ['Schwalbe', 'Kokosnuss', 666, 'Spam', 3.14, 'Ni', 4, 5, 3.14]\n",
      "insert ['Schwalbe', 'Kokosnuss', 'Taube', 666, 'Spam', 3.14, 'Ni', 4, 5, 3.14]\n",
      "count 2\n",
      "index 5\n",
      "remove ['Schwalbe', 'Kokosnuss', 'Taube', 666, 'Spam', 'Ni', 4, 5, 3.14]\n",
      "pop 3.14\n",
      "pop ['Schwalbe', 'Kokosnuss', 'Taube', 666, 'Spam', 'Ni', 4, 5]\n",
      "reverse [5, 4, 'Ni', 'Spam', 666, 'Taube', 'Kokosnuss', 'Schwalbe']\n"
     ]
    }
   ],
   "source": [
    "liste = [\"Schwalbe\", \"Kokosnuss\", 13, \"Spam\", 3.14]\n",
    "liste[2] = 666\n",
    "print(\"index\",liste)\n",
    "print(\"len\",len(liste))\n",
    "liste.append(\"Ni\")\n",
    "print(\"append\",liste)\n",
    "liste.extend([4, 5, 3.14])\n",
    "print(\"extend\",liste)\n",
    "liste.insert(2, \"Taube\")\n",
    "print(\"insert\",liste)\n",
    "print(\"count\",liste.count(3.14))\n",
    "print(\"index\",liste.index(3.14))\n",
    "liste.remove(3.14)\n",
    "print(\"remove\",liste)\n",
    "print(\"pop\",liste.pop())\n",
    "print(\"pop\",liste)\n",
    "liste.reverse()\n",
    "print(\"reverse\",liste)\n"
   ]
  },
  {
   "cell_type": "code",
   "execution_count": 11,
   "metadata": {},
   "outputs": [
    {
     "name": "stdout",
     "output_type": "stream",
     "text": [
      "5\n",
      "0\n",
      "10\n"
     ]
    }
   ],
   "source": [
    "liste = [1, 2, 3, 9, 8, 7, 6, 4, 5, 0, 10]\n",
    "for zahl in liste:\n",
    "    if zahl % 5 == 0:\n",
    "        print(zahl)\n"
   ]
  },
  {
   "cell_type": "code",
   "execution_count": 12,
   "metadata": {},
   "outputs": [
    {
     "name": "stdout",
     "output_type": "stream",
     "text": [
      "[0, 1, 2, 3, 4, 5, 6, 7, 8, 9, 10]\n",
      "[0, 2, 4, 6, 8, 10, 12, 14, 16, 18, 20]\n"
     ]
    }
   ],
   "source": [
    "liste = []\n",
    "i = 0\n",
    "j = 0\n",
    "while i < 11:\n",
    "    liste.append(i)\n",
    "    i = i + 1\n",
    "print(liste)\n",
    "while j < len(liste):\n",
    "    liste[j] = 2 * liste[j]\n",
    "    j = j + 1\n",
    "print(liste)\n"
   ]
  },
  {
   "cell_type": "code",
   "execution_count": 13,
   "metadata": {},
   "outputs": [
    {
     "name": "stdout",
     "output_type": "stream",
     "text": [
      "Vorname Max\n",
      "Nachname Mustermann\n",
      "Strasse Musterweg\n",
      "Hausnummer 10\n",
      "PLZ 55555\n",
      "Ort Musterstadt\n",
      "--------------------\n",
      "Vorname\n",
      "Nachname\n",
      "Strasse\n",
      "Hausnummer\n",
      "PLZ\n",
      "Ort\n",
      "--------------------\n",
      "Anzahl der Keys -> 6\n",
      "--------------------\n",
      "{'Vorname': 'Max', 'Nachname': 'Mustermann', 'Strasse': 'Anderestrasse', 'Hausnummer': 11, 'PLZ': 55555, 'Ort': 'Musterstadt', 'Land': 'Deutschland'}\n"
     ]
    }
   ],
   "source": [
    "Adresse = {\"Vorname\": \"Max\", \"Nachname\": \"Mustermann\", \"Strasse\": \"Musterweg\",\n",
    "           \"Hausnummer\": 10, \"PLZ\": 55555, \"Ort\": \"Musterstadt\"}\n",
    "for key, value in Adresse.items():\n",
    "    print(key, value)\n",
    "print(\"--------------------\")\n",
    "for key in Adresse.keys():\n",
    "    print(key)\n",
    "print(\"--------------------\")\n",
    "Adresse[\"Strasse\"] = \"Anderestrasse\"\n",
    "Adresse[\"Hausnummer\"] = 11\n",
    "print(\"Anzahl der Keys ->\",len(Adresse.keys()))\n",
    "print(\"--------------------\")\n",
    "Adresse[\"Land\"] = \"Deutschland\"\n",
    "print(Adresse)\n"
   ]
  },
  {
   "cell_type": "code",
   "execution_count": null,
   "metadata": {},
   "outputs": [],
   "source": []
  }
 ],
 "metadata": {
  "kernelspec": {
   "display_name": "Python 3.10.6 64-bit",
   "language": "python",
   "name": "python3"
  },
  "language_info": {
   "codemirror_mode": {
    "name": "ipython",
    "version": 3
   },
   "file_extension": ".py",
   "mimetype": "text/x-python",
   "name": "python",
   "nbconvert_exporter": "python",
   "pygments_lexer": "ipython3",
   "version": "3.10.6"
  },
  "orig_nbformat": 4,
  "vscode": {
   "interpreter": {
    "hash": "916dbcbb3f70747c44a77c7bcd40155683ae19c65e1c03b4aa3499c5328201f1"
   }
  }
 },
 "nbformat": 4,
 "nbformat_minor": 2
}
