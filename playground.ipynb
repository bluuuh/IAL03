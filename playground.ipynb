{
 "cells": [
  {
   "cell_type": "code",
   "execution_count": 1,
   "metadata": {},
   "outputs": [
    {
     "name": "stdout",
     "output_type": "stream",
     "text": [
      "Taschenrechner\n",
      "-------------------\n",
      "\n",
      "Ergebsnis: 15\n"
     ]
    }
   ],
   "source": [
    "from description import description\n",
    "description(\"Taschenrechner\")\n",
    "operator = input('Rechenoperator eingeben:')\n",
    "num_1 = int(input('erste Zahl eingeben'))\n",
    "num_2 = int(input('zweite Zahl eingeben'))\n",
    "\n",
    "if operator == \"+\":\n",
    "    print('Ergebsnis:',num_1+num_2)\n",
    "elif operator == \"-\":\n",
    "    print('Ergebsnis:',num_1-num_2)\n",
    "elif operator == \"*\":\n",
    "    print('Ergebsnis:',num_1*num_2)\n",
    "elif operator == \"/\":\n",
    "    print('Ergebsnis:',num_1/num_2)\n",
    "else:\n",
    "    print('falsche Eingabe')\n",
    "    "
   ]
  },
  {
   "cell_type": "code",
   "execution_count": null,
   "metadata": {},
   "outputs": [],
   "source": [
    "from tkinter import *\n",
    "from tkinter import ttk\n",
    "root = Tk()\n",
    "frm = ttk.Frame(root, padding=10)\n",
    "frm.grid()\n",
    "ttk.Label(frm, text=\"Hello World!\").grid(column=0, row=0)\n",
    "ttk.Button(frm, text=\"Quit\", command=root.destroy).grid(column=1, row=0)\n",
    "root.mainloop()"
   ]
  },
  {
   "cell_type": "code",
   "execution_count": 18,
   "metadata": {},
   "outputs": [
    {
     "data": {
      "text/plain": [
       "'zeit: 22d '"
      ]
     },
     "execution_count": 18,
     "metadata": {},
     "output_type": "execute_result"
    }
   ],
   "source": []
  },
  {
   "cell_type": "markdown",
   "metadata": {},
   "source": [
    "sajdhkajfha"
   ]
  },
  {
   "cell_type": "code",
   "execution_count": 1,
   "metadata": {},
   "outputs": [
    {
     "ename": "TypeError",
     "evalue": "cannot unpack non-iterable int object",
     "output_type": "error",
     "traceback": [
      "\u001b[0;31m---------------------------------------------------------------------------\u001b[0m",
      "\u001b[0;31mTypeError\u001b[0m                                 Traceback (most recent call last)",
      "\u001b[1;32m/home/blue/School/IAL03/playground.ipynb Cell 5\u001b[0m in \u001b[0;36m<cell line: 1>\u001b[0;34m()\u001b[0m\n\u001b[0;32m----> <a href='vscode-notebook-cell:/home/blue/School/IAL03/playground.ipynb#W4sZmlsZQ%3D%3D?line=0'>1</a>\u001b[0m \u001b[39mfor\u001b[39;00m x,y \u001b[39min\u001b[39;00m \u001b[39mrange\u001b[39m(\u001b[39m0\u001b[39m,\u001b[39m2\u001b[39m):\n\u001b[1;32m      <a href='vscode-notebook-cell:/home/blue/School/IAL03/playground.ipynb#W4sZmlsZQ%3D%3D?line=1'>2</a>\u001b[0m     z \u001b[39m=\u001b[39m x \u001b[39mand\u001b[39;00m y\n\u001b[1;32m      <a href='vscode-notebook-cell:/home/blue/School/IAL03/playground.ipynb#W4sZmlsZQ%3D%3D?line=2'>3</a>\u001b[0m     \u001b[39mprint\u001b[39m(z)\n",
      "\u001b[0;31mTypeError\u001b[0m: cannot unpack non-iterable int object"
     ]
    }
   ],
   "source": [
    "for x,y in range(0,2):\n",
    "    z = x and y\n",
    "    print(z)"
   ]
  }
 ],
 "metadata": {
  "interpreter": {
   "hash": "916dbcbb3f70747c44a77c7bcd40155683ae19c65e1c03b4aa3499c5328201f1"
  },
  "kernelspec": {
   "display_name": "Python 3.10.4 64-bit",
   "language": "python",
   "name": "python3"
  },
  "language_info": {
   "codemirror_mode": {
    "name": "ipython",
    "version": 3
   },
   "file_extension": ".py",
   "mimetype": "text/x-python",
   "name": "python",
   "nbconvert_exporter": "python",
   "pygments_lexer": "ipython3",
   "version": "3.10.6"
  },
  "orig_nbformat": 4
 },
 "nbformat": 4,
 "nbformat_minor": 2
}
