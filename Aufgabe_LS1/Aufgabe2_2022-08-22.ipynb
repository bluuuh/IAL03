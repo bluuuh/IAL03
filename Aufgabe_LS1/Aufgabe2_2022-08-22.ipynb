{
 "cells": [
  {
   "cell_type": "markdown",
   "metadata": {},
   "source": [
    "a) Mit welcher Anweisung können Sie in Python eine Ausgabe auf dem Bildschirm realisieren?\n",
    "Geben Sie beispielhaft den Text „LF5 ist der didaktische Höhepunkt der\n",
    "Woche aus.\""
   ]
  },
  {
   "cell_type": "code",
   "execution_count": 10,
   "metadata": {},
   "outputs": [
    {
     "name": "stdout",
     "output_type": "stream",
     "text": [
      "LF5 ist der didaktische Höhepunkt der Woche aus.\n"
     ]
    }
   ],
   "source": [
    "print(\"LF5 ist der didaktische Höhepunkt der Woche aus.\")"
   ]
  },
  {
   "cell_type": "markdown",
   "metadata": {},
   "source": [
    "Mit welcher Anweisung können Sie in Python einen Text einlesen?\n",
    "\n",
    "-  Mit input()\n",
    "\n",
    "Was ist beim Einlesen einer Zahl zu beachten? Lesen sie beispielhaft den Radius (Kommazahl)\n",
    "ein und speichern Sie ihn in einer Variable radius.\n",
    "\n",
    "- input() nimmt nur text als argument und gitb ihn aus. Damit man eine Kommazahl bekommt muss das    Ergebnis mit float() konvertieren"
   ]
  },
  {
   "cell_type": "code",
   "execution_count": 11,
   "metadata": {},
   "outputs": [
    {
     "name": "stdout",
     "output_type": "stream",
     "text": [
      "5.0\n"
     ]
    }
   ],
   "source": [
    "radius = float(input(\"radius:\"))\n",
    "print(radius)"
   ]
  },
  {
   "cell_type": "markdown",
   "metadata": {},
   "source": [
    "Was versteht man unter einer Variablen?\n",
    "\n",
    "-   eine Variable ist ein definierter Speicherort dem man Werte zuweisen kann.\n",
    "\n",
    "Nennen Sie beispielhaft einige häufig genutzte Datentypen für Variablen?\n",
    "\n",
    "-   int,float,string\n",
    "\n",
    "Was versteht man unter einer Anweisung?\n",
    "\n",
    "-   zB if, else, with ->Keywords\n",
    "\n",
    "Am Anfang vieler Python-Programme finden Sie import-Anweisungen. Wozu dienen diese?\n",
    "\n",
    "-   mit dieser Anweisung könne module,pakete importiert werden\n",
    "\n",
    "Wozu dienen Kommentare? Wie können Sie Kommentare in Python kennzeichnen?\n",
    "\n",
    "-   Kommentare können Code Blöcke erklären und werden mit '#' oder '\"\"\"' gekennzeichnet\n",
    "\n",
    "Welche Anweisungen gibt es in Python, um Schleifen aufzubauen?\n",
    "\n",
    "-   while,for\n",
    "\n",
    "Zählen Sie beispielhaft in einer WHILE-Schleife rückwärts von 10 bis 1"
   ]
  },
  {
   "cell_type": "code",
   "execution_count": 12,
   "metadata": {},
   "outputs": [
    {
     "name": "stdout",
     "output_type": "stream",
     "text": [
      "10\n",
      "9\n",
      "8\n",
      "7\n",
      "6\n",
      "5\n",
      "4\n",
      "3\n",
      "2\n",
      "1\n"
     ]
    }
   ],
   "source": [
    "i = 10\n",
    "while i >= 1:\n",
    "    print(i)\n",
    "    i-=1"
   ]
  },
  {
   "cell_type": "markdown",
   "metadata": {},
   "source": [
    "Zählen Sie beispielhaft in einer FOR-Schleife von 5 bis 25."
   ]
  },
  {
   "cell_type": "code",
   "execution_count": 13,
   "metadata": {},
   "outputs": [
    {
     "name": "stdout",
     "output_type": "stream",
     "text": [
      "5\n",
      "6\n",
      "7\n",
      "8\n",
      "9\n",
      "10\n",
      "11\n",
      "12\n",
      "13\n",
      "14\n",
      "15\n",
      "16\n",
      "17\n",
      "18\n",
      "19\n",
      "20\n",
      "21\n",
      "22\n",
      "23\n",
      "24\n",
      "25\n"
     ]
    }
   ],
   "source": [
    "for i in range(5,26):\n",
    "    print(i)"
   ]
  },
  {
   "cell_type": "markdown",
   "metadata": {},
   "source": [
    "Welche Anweisungen gibt es in Python, um Fallunterscheidungen aufzubauen?\n",
    "\n",
    "-   if, elif, else, match..case\n",
    "\n",
    "Wozu benutzt man bei der Programmierung einen (Text-)Editor?\n",
    "\n",
    "-   zum erstellen/strukturieren von mehrzeiligen Programmen\n",
    "\n",
    "Was ist der Unterschied zwischen einem Interpreter und einem Compiler?\n",
    "\n",
    "-   Ein Interpreter führt das Program in sich selbst aus, ein Compiler \"erstellt\" das ganze programm im ganzen um es ausführbar zu machen\n",
    "\n",
    "Wird bei Python mit einem Compiler oder mit einem Interpreter gearbeitet?\n",
    "\n",
    "-   Interperter\n",
    "\n",
    "Nennen Sie zwei Entwicklungsumgebungen, die Sie bei der Erstellung von Python-Programmen\n",
    "nutzen können?\n",
    "\n",
    "-   VS, IDLE\n",
    "\n",
    "Welche Entwicklungsumgebung wird direkt mit Python ausgeliefert?\n",
    "\n",
    "-    IDLE\n",
    "\n",
    "Worauf müssen Sie achten, wenn Sie Visual-Studio-Code zur Python-Entwicklung nutzen\n",
    "wollen?\n",
    "\n",
    "-    python installiert? Linter?\n",
    "\n",
    "Was ist der Unterschied zwischen einem Textverarbeitungsprogramm und einem Text-\n",
    "Editor?\n",
    "\n",
    "-   Highlighting, Built-In Funkctions? speihert keine meta infos\n",
    "\n",
    "Neben Python gibt es noch weitere Programmiersprachen. Nennen Sie drei weitere.\n",
    "\n",
    "-   Fortran, Lua, R\n",
    "\n",
    "Lesen Sie sich den einführenden Text über Python durch (FISI-LF5-LS1-Text1). Welche\n",
    "Anwendungsbereiche für Python werden dort genannt\n",
    "\n",
    "-   asymmetrische Verschlüsselung RSA, Web Backend Django, Raspi development, Datenverarbeitung und Visualiersung\n",
    "\n",
    "Wofür steht die Abkürzung IDE?\n",
    "\n",
    "-   Integrated Developement Environment"
   ]
  },
  {
   "cell_type": "markdown",
   "metadata": {},
   "source": []
  }
 ],
 "metadata": {
  "interpreter": {
   "hash": "916dbcbb3f70747c44a77c7bcd40155683ae19c65e1c03b4aa3499c5328201f1"
  },
  "kernelspec": {
   "display_name": "Python 3.10.4 64-bit",
   "language": "python",
   "name": "python3"
  },
  "language_info": {
   "codemirror_mode": {
    "name": "ipython",
    "version": 3
   },
   "file_extension": ".py",
   "mimetype": "text/x-python",
   "name": "python",
   "nbconvert_exporter": "python",
   "pygments_lexer": "ipython3",
   "version": "3.10.4"
  },
  "orig_nbformat": 4
 },
 "nbformat": 4,
 "nbformat_minor": 2
}
